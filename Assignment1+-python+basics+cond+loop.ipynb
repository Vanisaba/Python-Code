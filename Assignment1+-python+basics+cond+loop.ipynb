{
 "cells": [
  {
   "cell_type": "markdown",
   "metadata": {},
   "source": [
    "# Assignment 1 - Python basics ,conditions and loops"
   ]
  },
  {
   "cell_type": "markdown",
   "metadata": {},
   "source": [
    "Q1:Write a program which will find all such numbers which are divisible by 7 but are not a multiple of 5, between 2000 and 3200 (both included). The numbers obtained should be printed in a comma-separated sequence on a single line"
   ]
  },
  {
   "cell_type": "code",
   "execution_count": 3,
   "metadata": {},
   "outputs": [
    {
     "name": "stdout",
     "output_type": "stream",
     "text": [
      "Enter the starting number 2000\n",
      "Enter the ending number 3200\n",
      "         Numbers divisible by 7 and not multiple of 5 between 2000 and 3200   \n",
      "2002,2009,2016,2023,2037,2044,2051,2058,2072,2079,2086,2093,2107,2114,2121,2128,2142,2149,2156,2163,2177,2184,2191,2198,2212,2219,2226,2233,2247,2254,2261,2268,2282,2289,2296,2303,2317,2324,2331,2338,2352,2359,2366,2373,2387,2394,2401,2408,2422,2429,2436,2443,2457,2464,2471,2478,2492,2499,2506,2513,2527,2534,2541,2548,2562,2569,2576,2583,2597,2604,2611,2618,2632,2639,2646,2653,2667,2674,2681,2688,2702,2709,2716,2723,2737,2744,2751,2758,2772,2779,2786,2793,2807,2814,2821,2828,2842,2849,2856,2863,2877,2884,2891,2898,2912,2919,2926,2933,2947,2954,2961,2968,2982,2989,2996,3003,3017,3024,3031,3038,3052,3059,3066,3073,3087,3094,3101,3108,3122,3129,3136,3143,3157,3164,3171,3178,3192,3199\n"
     ]
    }
   ],
   "source": [
    "div_by_7=[]\n",
    "i=7\n",
    "start_int=input('Enter the starting number ')\n",
    "ending_int=input('Enter the ending number ')\n",
    "if isinstance(start_int,int) or isinstance(ending_int,int):\n",
    "    print(\"Enter valid integer\")\n",
    "else:\n",
    "    start_int=int(start_int)\n",
    "    ending_int=int(ending_int)\n",
    "    start_int= (i-(start_int%7)) + start_int\n",
    "    \n",
    "    for num in range(start_int,ending_int+1,i):\n",
    "        if ((num % 7) == 0.0) and ((num%5)!=0):\n",
    "          div_by_7.append(num) \n",
    "          \n",
    "    \n",
    "    print(\"         Numbers divisible by 7 and not multiple of 5 between 2000 and 3200   \")    \n",
    "    print(*div_by_7,sep=',')\n",
    " "
   ]
  },
  {
   "cell_type": "markdown",
   "metadata": {},
   "source": [
    "Q2:Write a Python program to accept the user's first and last name and then getting them printed in the the reverse order with a space between first name and last name. \n",
    " \n",
    " "
   ]
  },
  {
   "cell_type": "code",
   "execution_count": 7,
   "metadata": {},
   "outputs": [
    {
     "name": "stdout",
     "output_type": "stream",
     "text": [
      "Enter the First Name :python\n",
      "Enter the Last Name : assignment\n",
      "Entered Name is :python assignment \n",
      "Reversed string : assignment python\n",
      "Reversed within : tnemngissa nohtyp\n"
     ]
    }
   ],
   "source": [
    "ft_name=input(\"Enter the First Name :\")\n",
    "lt_name=input(\"Enter the Last Name : \" )\n",
    "print( \"Entered Name is :{} {} \".format(ft_name,lt_name))\n",
    "print(\"Reversed string : {} {}\".format(lt_name,ft_name))\n",
    "print(\"Reversed within : {} {}\".format(lt_name[::-1],ft_name[::-1]))\n",
    "\n"
   ]
  },
  {
   "cell_type": "code",
   "execution_count": 28,
   "metadata": {},
   "outputs": [
    {
     "name": "stdout",
     "output_type": "stream",
     "text": [
      "Enter the name :vanis dfgdf\n",
      "reversed name dfgdf vanis\n"
     ]
    }
   ],
   "source": [
    "#by getting input in one shot\n",
    "name=input(\"Enter the name :\")\n",
    "sp_name=name.split()\n",
    "print(\"reversed name {} {}\".format(sp_name[1],sp_name[0]))"
   ]
  },
  {
   "cell_type": "markdown",
   "metadata": {},
   "source": [
    "Q3:Write a Python program to find the volume of a sphere with diameter 12 cm.  \n",
    " \n",
    "Formula: V=4/3 * π * r 3 \n",
    " "
   ]
  },
  {
   "cell_type": "code",
   "execution_count": 8,
   "metadata": {},
   "outputs": [
    {
     "name": "stdout",
     "output_type": "stream",
     "text": [
      "Enter the diameter 12\n",
      "Volume of sphere of diameter 12 is 904.78\n"
     ]
    }
   ],
   "source": [
    "import math\n",
    "di = input(\"Enter the diameter \")\n",
    "vol = (4/3) * math.pi * (int(di)/2)**3\n",
    "print(\"Volume of sphere of diameter {0} is {1:.2f}\".format(di,vol))"
   ]
  },
  {
   "cell_type": "markdown",
   "metadata": {},
   "source": [
    "Q4:Write a program which accepts a sequence of comma-separated numbers from console and generate a list. "
   ]
  },
  {
   "cell_type": "code",
   "execution_count": 10,
   "metadata": {},
   "outputs": [
    {
     "name": "stdout",
     "output_type": "stream",
     "text": [
      "Enter a comma separated stringhello , how, are, you\n",
      "List :  ['hello ', ' how', ' are', ' you']\n"
     ]
    }
   ],
   "source": [
    "org_str=input(\"Enter a comma separated string\")\n",
    "split_str=org_str.split(sep=',')\n",
    "print(\"List : \",split_str)\n"
   ]
  },
  {
   "cell_type": "markdown",
   "metadata": {},
   "source": [
    "Q5: the below pattern using nested for loop in Python. \n",
    " \n",
    " \n",
    "* \n",
    "* *  \n",
    "* * *  \n",
    "* * * *  \n",
    "* * * * *  \n",
    "* * * *  \n",
    "* * *  \n",
    "* *  \n",
    "* \n"
   ]
  },
  {
   "cell_type": "code",
   "execution_count": 2,
   "metadata": {},
   "outputs": [
    {
     "name": "stdout",
     "output_type": "stream",
     "text": [
      "Enter the max stars @ mid point  4\n",
      "\n",
      "* \n",
      "* * \n",
      "* * * \n",
      "* * * * \n",
      "* * * \n",
      "* * \n",
      "* \n"
     ]
    }
   ],
   "source": [
    "max_star=input(\"Enter the max stars @ mid point  \")\n",
    "for i in range(int(max_star)+1):    \n",
    "        print('* '*i)\n",
    "for i in range(int(max_star)-1,0,-1):\n",
    "    print('* '*i)\n",
    " "
   ]
  },
  {
   "cell_type": "markdown",
   "metadata": {},
   "source": [
    "Q6:Write a Python program to reverse a word after accepting the input from the user. \n",
    " \n",
    "Sample Output: \n",
    " \n",
    "Input word: Ineuron\n",
    "Output: noruenI"
   ]
  },
  {
   "cell_type": "code",
   "execution_count": 57,
   "metadata": {},
   "outputs": [
    {
     "name": "stdout",
     "output_type": "stream",
     "text": [
      "enter the string to be reversed vaisdf\n",
      " Entered string :  vaisdf\n",
      " Reversed string : fdsiav\n"
     ]
    }
   ],
   "source": [
    "str= input(\"enter the string to be reversed \")\n",
    "print(\" Entered string : \",str)\n",
    "print(\" Reversed string :\", str[::-1])"
   ]
  },
  {
   "cell_type": "markdown",
   "metadata": {},
   "source": [
    "Q7:Write a Python Program to print the given string in the format specified in the ​sample output. \n",
    " WE, THE PEOPLE OF INDIA, having solemnly resolved to constitute India into a SOVEREIGN, SOCIALIST, SECULAR, DEMOCRATIC REPUBLIC and to secure to all its citizens \n",
    " \n",
    "Sample Output: \n",
    " \n",
    "WE, THE PEOPLE OF INDIA,\n",
    "      having solemnly resolved to constitute India into a SOVEREIGN, !\n",
    "            SOCIALIST, SECULAR, DEMOCRATIC REPUBLIC\n",
    "             and to secure to all its citizens \n",
    " \n",
    " "
   ]
  },
  {
   "cell_type": "code",
   "execution_count": 13,
   "metadata": {},
   "outputs": [
    {
     "name": "stdout",
     "output_type": "stream",
     "text": [
      "WE, THE PEOPLE OF INDIA,\n",
      "      having solemnly resolved to constitute India into a SOVEREIGN,!\n",
      "             SOCIALIST, SECULAR, DEMOCRATIC REPUBLIC\n",
      "              and to secure to all its citizens\n",
      "WE, THE PEOPLE OF INDIA,\n",
      "\thaving solemnly resolved to constitute India into a SOVEREIGN,!\n",
      "\t\tSOCIALIST, SECULAR, DEMOCRATIC REPUBLIC \n",
      "\t\t and to secure to all its citizens\n"
     ]
    }
   ],
   "source": [
    "line1='WE, THE PEOPLE OF INDIA,'\n",
    "line2='having solemnly resolved to constitute India into a SOVEREIGN,'\n",
    "line3='SOCIALIST, SECULAR, DEMOCRATIC REPUBLIC'\n",
    "line4='and to secure to all its citizens'\n",
    "print(line1)\n",
    "print('{0:>68}!'.format(line2)  )\n",
    "print('{0:>52}'.format(line3))\n",
    "print('{: >47}'.format(line4))\n",
    "line5='WE, THE PEOPLE OF INDIA,\\n\\thaving solemnly resolved to constitute India into a SOVEREIGN,!\\n\\t\\tSOCIALIST, SECULAR, DEMOCRATIC REPUBLIC \\n\\t\\t and to secure to all its citizens'\n",
    "print(line5)"
   ]
  }
 ],
 "metadata": {
  "kernelspec": {
   "display_name": "Python 3",
   "language": "python",
   "name": "python3"
  },
  "language_info": {
   "codemirror_mode": {
    "name": "ipython",
    "version": 3
   },
   "file_extension": ".py",
   "mimetype": "text/x-python",
   "name": "python",
   "nbconvert_exporter": "python",
   "pygments_lexer": "ipython3",
   "version": "3.6.3"
  }
 },
 "nbformat": 4,
 "nbformat_minor": 2
}
