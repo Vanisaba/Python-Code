{
 "cells": [
  {
   "cell_type": "markdown",
   "metadata": {},
   "source": [
    "# Python Assignment  - Exception handling"
   ]
  },
  {
   "cell_type": "markdown",
   "metadata": {},
   "source": [
    "Q1 : Write a function to compute 5/0 and use try/except to catch the exceptions. "
   ]
  },
  {
   "cell_type": "code",
   "execution_count": 1,
   "metadata": {},
   "outputs": [
    {
     "name": "stdout",
     "output_type": "stream",
     "text": [
      "Lets pass correct values  15.5\n",
      "cant divide by zero\n"
     ]
    }
   ],
   "source": [
    "import sys\n",
    "def div_try_catch(x,y):\n",
    "    return(x/y)\n",
    "\n",
    "try:\n",
    "    print(\"Lets pass correct values \",div_try_catch(31,2))\n",
    "    \n",
    "    print(\"let pass zero values\",div_try_catch(31,0))\n",
    "    print(\"lets pass unknown variable\", div_try_catch(w,q))\n",
    "except ZeroDivisionError:\n",
    "    print('cant divide by zero')\n",
    "except NameError:\n",
    "    print('pls declare or assign value to the variable ',sys.exc_info()[1] )\n",
    "    "
   ]
  },
  {
   "cell_type": "raw",
   "metadata": {},
   "source": [
    "Q2 : Implement a Python program to generate all sentences where subject is in [\"Americans\", \"Indians\"] and verb is in [\"Play\", \"watch\"] and the object is in [\"Baseball\",\"cricket\"]. \n",
    " \n",
    "Hint: Subject,Verb and Object should be declared in the program as shown below. \n",
    " \n",
    "subjects=[\"Americans \",\"Indians\"] verbs=[\"play\",\"watch\"] objects=[\"Baseball\",\"Cricket\"] \n",
    " \n",
    "Output should come as below: \n",
    " \n",
    "Americans  play Baseball.\n",
    "Americans  play Cricket. \n",
    "Americans  watch Baseball. \n",
    "Americans  watch Cricket. \n",
    "Indians play Baseball. \n",
    "Indians play Cricket. \n",
    "Indians watch Baseball. \n",
    "Indians watch Cricket. "
   ]
  },
  {
   "cell_type": "code",
   "execution_count": 2,
   "metadata": {},
   "outputs": [
    {
     "name": "stdout",
     "output_type": "stream",
     "text": [
      "Output :\n",
      "Americans play Baseball.\n",
      "Americans play Cricket.\n",
      "Americans watch Baseball.\n",
      "Americans watch Cricket.\n",
      "Indians play Baseball.\n",
      "Indians play Cricket.\n",
      "Indians watch Baseball.\n",
      "Indians watch Cricket.\n"
     ]
    }
   ],
   "source": [
    "# declare all the variables\n",
    "subjects=[\"Americans\",\"Indians\"] \n",
    "verbs=[\"play\",\"watch\"] \n",
    "objects=[\"Baseball\",\"Cricket\"] \n",
    "#print the output \n",
    "print(\"Output :\")\n",
    "for i in subjects:\n",
    "    for j in verbs:\n",
    "        for k in objects:\n",
    "            print(i + ' ' + j +  ' ' + k + '.')"
   ]
  },
  {
   "cell_type": "markdown",
   "metadata": {},
   "source": [
    "***********END***************"
   ]
  },
  {
   "cell_type": "markdown",
   "metadata": {},
   "source": [
    "Q3 : Write a function so that the columns of the output matrix are powers of the input vector.  \n",
    "The order of the powers is determined by the increasing boolean argument. Specifically, when              increasing is False, the i-th output column is the input vector raised element-wise to the power                of N - i - 1.  \n",
    " \n",
    "HINT: Such a matrix with a geometric progression in each row is named for Alexandre               Theophile Vandermonde. \n",
    " \n",
    " \n",
    "NOTE:​ ​The​ ​solution​ ​shared​ ​through​ ​Github​ ​should​ ​contain​ ​the​ ​source code​ ​used​ ​and​ ​the​ ​screenshot​ ​of​ ​the​ ​output. \n",
    " \n",
    " "
   ]
  },
  {
   "cell_type": "markdown",
   "metadata": {},
   "source": [
    "import numpy as np\n",
    "def ATV_matrix(x, N=None, increasing=False):\n",
    "    \"\"\" function will have x the input array, Number of columns in the output. \n",
    "    If N is not specified, a square array is returned (N = len(x)).\n",
    "    increasing =Order of the powers of the columns. \n",
    "    If True, the powers increase from left to right, if False (the default) they are reversed.\"\"\"\n",
    "\n",
    "\n",
    "    if N==None :\n",
    "        N= (x.shape[1])\n",
    "    row=x.shape[0]\n",
    "    col=x.shape[1]\n",
    "    arr=np.zeros((col,N))\n",
    "    if increasing :\n",
    "        vec= np.stack((np.transpose(x)**(N-i-1) for i in range(N-1,-1,-1 ) ),axis=-1  )\n",
    "     \n",
    "    else:\n",
    "        \n",
    "        vec=np.stack(([x**(N-i-1) for i in range(N)]),axis=-1)\n",
    "    return(vec)  \n",
    "a=np.array([[ 1,  2,  3, 5]])   \n",
    "\n",
    "print(\"increasing =True  \")\n",
    "print(ATV_matrix(a,increasing=True ))\n",
    "print(\"increasing =False  \")\n",
    "print(ATV_matrix(a ))"
   ]
  }
 ],
 "metadata": {
  "kernelspec": {
   "display_name": "Python 3",
   "language": "python",
   "name": "python3"
  },
  "language_info": {
   "codemirror_mode": {
    "name": "ipython",
    "version": 3
   },
   "file_extension": ".py",
   "mimetype": "text/x-python",
   "name": "python",
   "nbconvert_exporter": "python",
   "pygments_lexer": "ipython3",
   "version": "3.6.3"
  }
 },
 "nbformat": 4,
 "nbformat_minor": 2
}
