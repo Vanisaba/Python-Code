{
 "cells": [
  {
   "cell_type": "markdown",
   "metadata": {},
   "source": [
    "# Python Assignment 3 - reduce filter pattern"
   ]
  },
  {
   "cell_type": "markdown",
   "metadata": {},
   "source": [
    "##### Task 1"
   ]
  },
  {
   "cell_type": "markdown",
   "metadata": {},
   "source": [
    "Q1.1 : Write a Python Program to implement your own myreduce() function which works exactly like Python's built-in function reduce() "
   ]
  },
  {
   "cell_type": "code",
   "execution_count": 2,
   "metadata": {},
   "outputs": [
    {
     "name": "stdout",
     "output_type": "stream",
     "text": [
      "function  with add : -15\n",
      "function  with sub : 13\n",
      "function  with multiply : -120\n",
      "function  with divide : -0.008333333333333333\n",
      "function with string concat  asddtttt\n",
      "function with greater : True\n"
     ]
    }
   ],
   "source": [
    "def myreduce(x,seq):\n",
    "    fin=seq[0]\n",
    "    for i in seq[1:]:\n",
    "        fin=x(fin,i)\n",
    "    return(fin)\n",
    "\n",
    "lst=[-1,-2,-3,-4,-5]\n",
    "lst1=['as','dd','tt','tt']\n",
    "print('function  with add :',myreduce(lambda a,b:a+b,lst))\n",
    "print('function  with sub :',myreduce(lambda a,b:a-b,lst))\n",
    "print('function  with multiply :',myreduce(lambda a,b:a*b,lst))\n",
    "print('function  with divide :',myreduce(lambda a,b:a/b,lst))\n",
    "print('function with string concat ',myreduce(lambda a,b: a+b,lst1))\n",
    "print('function with greater :',myreduce(lambda a,b:a>b,lst))\n",
    " "
   ]
  },
  {
   "cell_type": "markdown",
   "metadata": {},
   "source": [
    "Q1.2 : Write a Python program to implement your own myfilter() function which works exactly like Python's built-in function filter() "
   ]
  },
  {
   "cell_type": "code",
   "execution_count": 3,
   "metadata": {},
   "outputs": [
    {
     "name": "stdout",
     "output_type": "stream",
     "text": [
      "function  with even  : [2, 4, 6, 8]\n",
      "function  with odd  : [3, 5, 7]\n",
      "function  with has vowel  : ['as']\n",
      "function get only second month  : ['11-02-1920']\n"
     ]
    }
   ],
   "source": [
    "def myfilter(x,seq):\n",
    "    fin_lst=[] \n",
    "    for i in seq:\n",
    "        fin=x(i)\n",
    "        if fin==1:\n",
    "            fin_lst.append(i)\n",
    "    return(fin_lst)\n",
    "lst=[2,3,4,5,6,7,8]\n",
    "lst1=['as','dd','tt','tt']\n",
    "dat=['10-04-1999','11-02-1920','15-01-1995']\n",
    "print('function  with even  :',myfilter(lambda a:a%2==0,lst))\n",
    "print('function  with odd  :',myfilter(lambda a :a%2!=0,lst))\n",
    "print('function  with has vowel  :',myfilter(lambda a :('a'in a) or ('e' in a) or ('i' in a) or  ('o' in a) or ('u' in a),lst1))\n",
    "print('function get only second month  :',myfilter(lambda a: a.split('-')[1]=='02',dat))\n"
   ]
  },
  {
   "cell_type": "markdown",
   "metadata": {},
   "source": [
    "Q2 : Implement List comprehensions to produce the following lists. \n",
    " \n",
    "Write List comprehensions to produce the following Lists \n",
    " \n",
    " \n",
    "['x', 'xx', 'xxx', 'xxxx', 'y', 'yy', 'yyy', 'yyyy', 'z', 'zz', 'zzz', 'zzzz'] \n",
    " \n",
    "['x', 'y', 'z', 'xx', 'yy', 'zz', 'xx', 'yy', 'zz', 'xxxx', 'yyyy', 'zzzz'] \n",
    "[[2], [3], [4], [3], [4], [5], [4], [5], [6]] \n",
    " \n",
    "[[2, 3, 4, 5], [3, 4, 5, 6], [4, 5, 6, 7], [5, 6, 7, 8]] \n",
    " \n",
    "[(1, 1), (2, 1), (3, 1), (1, 2), (2, 2), (3, 2), (1, 3), (2, 3), (3, 3)] "
   ]
  },
  {
   "cell_type": "code",
   "execution_count": 4,
   "metadata": {},
   "outputs": [
    {
     "name": "stdout",
     "output_type": "stream",
     "text": [
      "['x', 'xx', 'xxx', 'xxxx', 'y', 'yy', 'yyy', 'yyyy', 'z', 'zz', 'zzz', 'zzzz']\n",
      "['x', 'y', 'z', 'xx', 'yy', 'zz', 'xxx', 'yyy', 'zzz', 'xxxx', 'yyyy', 'zzzz']\n",
      "[[2], [3], [4], [3], [4], [5], [4], [5], [6]]\n",
      "[[2, 3, 4, 5], [3, 4, 5, 6], [4, 5, 6, 7], [5, 6, 7, 8]]\n",
      "[(1, 1), (2, 1), (3, 1), (1, 2), (2, 2), (3, 2), (1, 3), (2, 3), (3, 3)]\n"
     ]
    }
   ],
   "source": [
    "#['x', 'xx', 'xxx', 'xxxx', 'y', 'yy', 'yyy', 'yyyy', 'z', 'zz', 'zzz', 'zzzz']\n",
    "l1=[ j*i for j in ['x','y','z']  for i in range(1,5) ]\n",
    "print(l1)\n",
    "#'['x', 'y', 'z', 'xx', 'yy', 'zz', 'xx', 'yy', 'zz', 'xxxx', 'yyyy', 'zzzz'] '\n",
    "l2=[ j*i for j in range(1,5)  for i in ['x','y','z'] ]\n",
    "print(l2)\n",
    "#[[2], [3], [4], [3], [4], [5], [4], [5], [6]]\n",
    "l3=[[i]  for j in range(3) for i in range(2+j,5+j)  ]\n",
    "print(l3)\n",
    "#[[2, 3, 4, 5], [3, 4, 5, 6], [4, 5, 6, 7], [5, 6, 7, 8]]\n",
    "l4=[[i for i in range(2+j,6+j) ]  for j in range(4)  ]\n",
    "print(l4)\n",
    "#[(1, 1), (2, 1), (3, 1), (1, 2), (2, 2), (3, 2), (1, 3), (2, 3), (3, 3)]\n",
    "l5=[(i,j)  for j in range(1,4) for i in range(1,4) ]\n",
    "print(l5)"
   ]
  }
 ],
 "metadata": {
  "kernelspec": {
   "display_name": "Python 3",
   "language": "python",
   "name": "python3"
  },
  "language_info": {
   "codemirror_mode": {
    "name": "ipython",
    "version": 3
   },
   "file_extension": ".py",
   "mimetype": "text/x-python",
   "name": "python",
   "nbconvert_exporter": "python",
   "pygments_lexer": "ipython3",
   "version": "3.6.3"
  }
 },
 "nbformat": 4,
 "nbformat_minor": 2
}
