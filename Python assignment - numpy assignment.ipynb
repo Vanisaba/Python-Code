{
 "cells": [
  {
   "cell_type": "markdown",
   "metadata": {},
   "source": [
    "# Python Assignment- Numpy "
   ]
  },
  {
   "cell_type": "markdown",
   "metadata": {},
   "source": [
    "Write a function so that the columns of the output matrix are powers of the input \n",
    " vector. \n",
    " \n",
    "The order of the powers is determined by the increasing boolean argument. Specifically, when increasing is False, the i-th output column is the input vector raised element-wise to the power of N - i - 1. \n",
    " \n",
    " \n",
    "HINT: Such a matrix with a geometric progression in each row is named for AlexandreTheophile Vandermonde. \n",
    " "
   ]
  },
  {
   "cell_type": "code",
   "execution_count": 1,
   "metadata": {},
   "outputs": [
    {
     "name": "stdout",
     "output_type": "stream",
     "text": [
      "increasing =True  \n",
      "[[[  1   1   1   1]]\n",
      "\n",
      " [[  1   2   4   8]]\n",
      "\n",
      " [[  1   3   9  27]]\n",
      "\n",
      " [[  1   5  25 125]]]\n",
      "increasing =False  \n",
      "[[[  1   1   1   1]\n",
      "  [  8   4   2   1]\n",
      "  [ 27   9   3   1]\n",
      "  [125  25   5   1]]]\n"
     ]
    }
   ],
   "source": [
    "import numpy as np\n",
    "def ATV_matrix(x, N=None, increasing=False):\n",
    "    \"\"\" function will have x the input array, Number of columns in the output. \n",
    "    If N is not specified, a square array is returned (N = len(x)).\n",
    "    increasing =Order of the powers of the columns. \n",
    "    If True, the powers increase from left to right, if False (the default) they are reversed.\"\"\"\n",
    "\n",
    "\n",
    "    if N==None :\n",
    "        N= (x.shape[1])\n",
    "    row=x.shape[0]\n",
    "    col=x.shape[1]\n",
    "    arr=np.zeros((col,N))\n",
    "    if increasing :\n",
    "        vec= np.stack((np.transpose(x)**(N-i-1) for i in range(N-1,-1,-1 ) ),axis=-1  )\n",
    "     \n",
    "    else:\n",
    "        \n",
    "        vec=np.stack(([x**(N-i-1) for i in range(N)]),axis=-1)\n",
    "    return(vec)  \n",
    "a=np.array([[ 1,  2,  3, 5]])   \n",
    "\n",
    "print(\"increasing =True  \")\n",
    "print(ATV_matrix(a,increasing=True ))\n",
    "print(\"increasing =False  \")\n",
    "print(ATV_matrix(a ))"
   ]
  },
  {
   "cell_type": "markdown",
   "metadata": {},
   "source": [
    "Problem Statement 2: \n",
    " \n",
    "Given a sequence of n values x1, x2, ..., xn and a window size k>0, the k-th moving average of the given sequence is defined as follows: \n",
    " \n",
    "The moving average sequence has n-k+1 elements as shown below. \n",
    " \n",
    "The moving averages with k=4 of a ten-value sequence (n=10) is shown below \n",
    " \n",
    "i 1  2  3  4  5  6  7  8  9 10  \n",
    "===== == == == == == == == == == ==  \n",
    "Input 10 20 30 40 50 60 70 80 90 100  \n",
    "y1      25 = (10+20+30+40)/4  \n",
    "y2      35 = (20+30+40+50)/4  \n",
    "y3      45 = (30+40+50+60)/4  \n",
    "y4 55 = (40+50+60+70)/4 \n",
    "y5 65 = (50+60+70+80)/4 \n",
    "y6 75 = (60+70+80+90)/4 \n",
    "y7 85 = (70+80+90+100)/4 \n",
    " \n",
    " \n",
    "Thus, the moving average sequence has n-k+1=10-4+1=7 values. \n",
    "Question: Write a function to find moving average in an array over a window:\n",
    "Test it over [3, 5, 7, 2, 8, 10, 11, 65, 72, 81, 99, 100, 150] and\n",
    "window of 3. \n",
    " \n",
    " "
   ]
  },
  {
   "cell_type": "code",
   "execution_count": 2,
   "metadata": {
    "scrolled": false
   },
   "outputs": [
    {
     "name": "stdout",
     "output_type": "stream",
     "text": [
      "Input Sequence                       :  [  3   5   7   2   8  10  11  65  72  81  99 100 150]\n",
      "Input window                         :  3\n",
      "To Find the Moving Average for below :\n",
      "\n",
      "\n",
      "[[  3.   5.   7.]\n",
      " [  5.   7.   2.]\n",
      " [  7.   2.   8.]\n",
      " [  2.   8.  10.]\n",
      " [  8.  10.  11.]\n",
      " [ 10.  11.  65.]\n",
      " [ 11.  65.  72.]\n",
      " [ 65.  72.  81.]\n",
      " [ 72.  81.  99.]\n",
      " [ 81.  99. 100.]\n",
      " [ 99. 100. 150.]]\n",
      "\n",
      "\n",
      "Moving Average                           : \n",
      "\n",
      " [  5.           4.66666667   5.66666667   6.66666667   9.66666667\n",
      "  28.66666667  49.33333333  72.66666667  84.          93.33333333\n",
      " 116.33333333]\n"
     ]
    }
   ],
   "source": [
    "import numpy as np\n",
    "\n",
    "def mov_avg(x,k):\n",
    "    print('Input Sequence                       : ',x)\n",
    "    print('Input window                         : ',k)\n",
    "    \n",
    "    seg_arr= x\n",
    "    seg_len=np.size(seg_arr)\n",
    "    row_size=seg_len-k+1\n",
    "    col_size=k\n",
    "    y=np.zeros((row_size,col_size))\n",
    "    for i in range(seg_len-k+1):\n",
    "        y[i]=seg_arr[i:i+k  ]\n",
    "    print('To Find the Moving Average for below :\\n\\n')\n",
    "    print( y)\n",
    "    mov_avg=np.mean(y,axis=1)   \n",
    "     \n",
    "    return(mov_avg)\n",
    "    \n",
    "\n",
    "l1=np.array([3, 5, 7, 2, 8, 10, 11, 65, 72, 81, 99, 100, 150])\n",
    "k=3\n",
    "print(\"\\n\\nMoving Average                           : \\n\\n\",mov_avg(l1,k))\n",
    "    \n"
   ]
  }
 ],
 "metadata": {
  "kernelspec": {
   "display_name": "Python 3",
   "language": "python",
   "name": "python3"
  },
  "language_info": {
   "codemirror_mode": {
    "name": "ipython",
    "version": 3
   },
   "file_extension": ".py",
   "mimetype": "text/x-python",
   "name": "python",
   "nbconvert_exporter": "python",
   "pygments_lexer": "ipython3",
   "version": "3.7.2"
  }
 },
 "nbformat": 4,
 "nbformat_minor": 2
}
