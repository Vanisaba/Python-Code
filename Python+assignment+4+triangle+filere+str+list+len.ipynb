{
 "cells": [
  {
   "cell_type": "markdown",
   "metadata": {},
   "source": [
    "##### Python Assignment 4 "
   ]
  },
  {
   "cell_type": "markdown",
   "metadata": {},
   "source": [
    "Q1.1: Write a Python Program(with class concepts) to find the area of the triangle using the below formula area = (s(s-a)(s-b)(s-c)) * 0.5 Function to take the length of the sides of triangle from user should be defined in the parent class and function to calculate the area should be defined in subclass"
   ]
  },
  {
   "cell_type": "code",
   "execution_count": 1,
   "metadata": {},
   "outputs": [
    {
     "name": "stdout",
     "output_type": "stream",
     "text": [
      "Sides of the Triangle :\n",
      "\n",
      "Side A = 4\n",
      "Side B = 3\n",
      "Side B = 5\n",
      "\n",
      "\n",
      "Area \n",
      "Area of the Triangle 1 :    6.0\n",
      "Sides of the Triangle :\n",
      "\n",
      "Side A = 2\n",
      "Side B = 3\n",
      "Side B = 6\n",
      "\n",
      "\n",
      "Area \n",
      "Area of the Triangle 2 :    Not a Triangle when one side is bigger than the other two combined\n"
     ]
    }
   ],
   "source": [
    "class Triangle:\n",
    "    def __init__(self,sidea,sideb,sidec):\n",
    "        self.side_a=sidea\n",
    "        self.side_b=sideb\n",
    "        self.side_c=sidec\n",
    "    def __str__(self):\n",
    "        return \"Sides of the Triangle :\\n\\nSide A = %d\\nSide B = %d\\nSide B = %d\\n\" %(self.side_a,self.side_b,self.side_c)\n",
    "class Area(Triangle):\n",
    "    def __init__(self,id,*args):\n",
    "        super(Area,self).__init__(*args)\n",
    "        self.id=id         \n",
    "        self.half =(self.side_a+self.side_b+self.side_c)/2\n",
    "    \n",
    "    def area(self):\n",
    "        if (self.side_a > (self.side_b +self.side_c)) or (self.side_b > (self.side_a +self.side_c)) or (self.side_c > (self.side_b +self.side_a)):\n",
    "            return \"Not a Triangle when one side is bigger than the other two combined\"\n",
    "        return  (self.half*(self.half-self.side_a)*(self.half-self.side_b)*(self.half-self.side_c)) **0.5\n",
    "    def __str__(self):\n",
    "         \n",
    "        return   super(Area,self).__str__() + \"\\n\\nArea \\nArea of the Triangle %d :    \" %(self.id) +  str(self.area())\n",
    "    \n",
    "tri1=Area(1,4,3,5)\n",
    "print(tri1)\n",
    "tri2=Area(2,2,3,6)\n",
    "print(tri2)"
   ]
  },
  {
   "cell_type": "markdown",
   "metadata": {},
   "source": [
    " Write a function filter_long_words() that takes a list of words and an integer n and returns the list of words that are longer than n."
   ]
  },
  {
   "cell_type": "code",
   "execution_count": 2,
   "metadata": {},
   "outputs": [
    {
     "name": "stdout",
     "output_type": "stream",
     "text": [
      "call with empty list :  ERROR : First positional argument of list type should not be empty\n",
      "call with sample list :  ['helo', 'were', 'puggy']\n"
     ]
    }
   ],
   "source": [
    "def  filter_long_words(lst,n):\n",
    "    if  len(lst)==0:\n",
    "        return('ERROR : First positional argument of list type should not be empty')\n",
    "    else:\n",
    "        final_lst=[]\n",
    "        for i in lst:\n",
    "            if len(i)>n:\n",
    "                final_lst.append(i)\n",
    "        return(final_lst)\n",
    "empty_samp=[]\n",
    "sample1=['helo','how','were','you','puggy']\n",
    "print('call with empty list : ', filter_long_words(empty_samp,3) )\n",
    "print('call with sample list : ', filter_long_words(sample1,3) )\n",
    "\n",
    "\n",
    "    \n",
    "    "
   ]
  },
  {
   "cell_type": "markdown",
   "metadata": {},
   "source": [
    "Q2.1 : Write a Python program using function concept that maps list of words into a list of integers representing the lengths of the corresponding words​. Hint: ​If a list [ ab,cde,erty] is passed on to the python function output should come as [2,3,4] Here 2,3 and 4 are the lengths of the words in the list.\n"
   ]
  },
  {
   "cell_type": "code",
   "execution_count": 3,
   "metadata": {},
   "outputs": [
    {
     "name": "stdout",
     "output_type": "stream",
     "text": [
      " For ['helo','how','were','you','puggy'] +> [4, 3, 4, 3, 5]\n",
      " For ['x', 'xx', 'xxx', 'xxxx', 'y', 'yy', 'yyy', 'yyyy', 'z', 'zz', 'zzz', 'zzzz'] +> [1, 2, 3, 4, 1, 2, 3, 4, 1, 2, 3, 4]\n"
     ]
    }
   ],
   "source": [
    "def lst_word_to_lst_len(lst):\n",
    "    return([len(i) for i in lst ])\n",
    "\n",
    "lst1=['helo','how','were','you','puggy']\n",
    "lst2=['x', 'xx', 'xxx', 'xxxx', 'y', 'yy', 'yyy', 'yyyy', 'z', 'zz', 'zzz', 'zzzz']\n",
    "print(\" For ['helo','how','were','you','puggy'] +>\",lst_word_to_lst_len(lst1))\n",
    "print(\" For ['x', 'xx', 'xxx', 'xxxx', 'y', 'yy', 'yyy', 'yyyy', 'z', 'zz', 'zzz', 'zzzz'] +>\",lst_word_to_lst_len(lst2))"
   ]
  },
  {
   "cell_type": "markdown",
   "metadata": {},
   "source": [
    "Write a Python function which takes a character (i.e. a string of length 1) and returns True if it is a vowel, False otherwise.\n",
    "\n"
   ]
  },
  {
   "cell_type": "code",
   "execution_count": 4,
   "metadata": {},
   "outputs": [
    {
     "name": "stdout",
     "output_type": "stream",
     "text": [
      "pass more than one char :  ERROR : pass a character input\n",
      "pass vowel :e == > True\n",
      "pass consonant :c == >  False\n",
      "pass upper case vowel :E == >  True\n",
      "pass consonant :Q == >  False\n"
     ]
    }
   ],
   "source": [
    "def is_it_vowel(ch):\n",
    "    if len(ch) > 1:\n",
    "        return('ERROR : pass a character input')\n",
    "    else:\n",
    "        return( ch in ['a','e','i','o','u','A','E','I','O','U'])\n",
    "    \n",
    "print('pass more than one char : ' ,is_it_vowel('ere3'))\n",
    "print('pass vowel :e == >' ,is_it_vowel('e'))\n",
    "print('pass consonant :c == > ' ,is_it_vowel('c'))\n",
    "print('pass upper case vowel :E == > ' ,is_it_vowel('E'))\n",
    "print('pass consonant :Q == > ' ,is_it_vowel('Q'))\n"
   ]
  },
  {
   "cell_type": "markdown",
   "metadata": {},
   "source": [
    "# ****************END***************"
   ]
  },
  {
   "cell_type": "markdown",
   "metadata": {},
   "source": [
    "Q3 : Implement a function longestWord() that takes a list of words and returns the longest one\n"
   ]
  },
  {
   "cell_type": "markdown",
   "metadata": {},
   "source": [
    "\n",
    "def longestWord(lst):\n",
    "    if len(lst)==0:\n",
    "        return('ERROR:Enter a correct list')\n",
    "         \n",
    "    else:\n",
    "        lo_word=lst[0]\n",
    "        for i in lst[1:]:\n",
    "            if len(lo_word)<len(i):\n",
    "                lo_word=i\n",
    "    return(lo_word)\n",
    "\n",
    "emp_lst=[]\n",
    "lst1=['ask','where','i','they','go','somewhere']\n",
    "print('longest word of emp_lst : ',emp_lst,longestWord(emp_lst))\n",
    "print('longest word of lst1 : ',lst1,longestWord(lst1))\n",
    "            \n",
    "    \n",
    "    "
   ]
  }
 ],
 "metadata": {
  "kernelspec": {
   "display_name": "Python 3",
   "language": "python",
   "name": "python3"
  },
  "language_info": {
   "codemirror_mode": {
    "name": "ipython",
    "version": 3
   },
   "file_extension": ".py",
   "mimetype": "text/x-python",
   "name": "python",
   "nbconvert_exporter": "python",
   "pygments_lexer": "ipython3",
   "version": "3.6.3"
  }
 },
 "nbformat": 4,
 "nbformat_minor": 2
}
